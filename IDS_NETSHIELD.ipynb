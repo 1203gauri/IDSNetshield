{
  "cells": [
    {
      "cell_type": "code",
      "execution_count": null,
      "metadata": {
        "id": "GldURMXw9m6z"
      },
      "outputs": [],
      "source": [
        "import pandas as pd\n",
        "import numpy as np\n",
        "from sklearn.preprocessing import LabelEncoder, StandardScaler\n",
        "from sklearn.model_selection import train_test_split\n",
        "from sklearn.ensemble import RandomForestClassifier\n",
        "from sklearn.metrics import classification_report, confusion_matrix\n",
        "from tensorflow.keras.models import Model\n",
        "from tensorflow.keras.layers import Input, Dense\n",
        "import seaborn as sns\n",
        "import matplotlib.pyplot as plt\n",
        "import plotly.express as px\n"
      ]
    },
    {
      "cell_type": "code",
      "execution_count": null,
      "metadata": {
        "colab": {
          "base_uri": "https://localhost:8080/"
        },
        "id": "tYwb8K0XuWD0",
        "outputId": "6313d445-9222-495a-c1c8-61bb38ce1a65"
      },
      "outputs": [
        {
          "output_type": "stream",
          "name": "stdout",
          "text": [
            "<class 'pandas.core.frame.DataFrame'>\n",
            "RangeIndex: 34560 entries, 0 to 34559\n",
            "Data columns (total 43 columns):\n",
            " #   Column  Non-Null Count  Dtype  \n",
            "---  ------  --------------  -----  \n",
            " 0   0       34560 non-null  int64  \n",
            " 1   1       34560 non-null  object \n",
            " 2   2       34560 non-null  object \n",
            " 3   3       34560 non-null  object \n",
            " 4   4       34560 non-null  int64  \n",
            " 5   5       34560 non-null  int64  \n",
            " 6   6       34560 non-null  int64  \n",
            " 7   7       34560 non-null  int64  \n",
            " 8   8       34560 non-null  int64  \n",
            " 9   9       34560 non-null  int64  \n",
            " 10  10      34560 non-null  int64  \n",
            " 11  11      34560 non-null  int64  \n",
            " 12  12      34560 non-null  int64  \n",
            " 13  13      34560 non-null  int64  \n",
            " 14  14      34560 non-null  int64  \n",
            " 15  15      34560 non-null  int64  \n",
            " 16  16      34560 non-null  int64  \n",
            " 17  17      34560 non-null  int64  \n",
            " 18  18      34560 non-null  int64  \n",
            " 19  19      34560 non-null  int64  \n",
            " 20  20      34560 non-null  int64  \n",
            " 21  21      34560 non-null  int64  \n",
            " 22  22      34560 non-null  int64  \n",
            " 23  23      34560 non-null  int64  \n",
            " 24  24      34560 non-null  float64\n",
            " 25  25      34560 non-null  float64\n",
            " 26  26      34560 non-null  float64\n",
            " 27  27      34560 non-null  float64\n",
            " 28  28      34560 non-null  float64\n",
            " 29  29      34560 non-null  float64\n",
            " 30  30      34560 non-null  float64\n",
            " 31  31      34560 non-null  int64  \n",
            " 32  32      34560 non-null  int64  \n",
            " 33  33      34560 non-null  float64\n",
            " 34  34      34560 non-null  float64\n",
            " 35  35      34560 non-null  float64\n",
            " 36  36      34559 non-null  float64\n",
            " 37  37      34559 non-null  float64\n",
            " 38  38      34559 non-null  float64\n",
            " 39  39      34559 non-null  float64\n",
            " 40  40      34559 non-null  float64\n",
            " 41  41      34559 non-null  object \n",
            " 42  42      34559 non-null  float64\n",
            "dtypes: float64(16), int64(23), object(4)\n",
            "memory usage: 11.3+ MB\n",
            "None\n",
            "   0    1         2   3    4     5   6   7   8   9   ...    33    34    35  \\\n",
            "0   0  tcp  ftp_data  SF  491     0   0   0   0   0  ...  0.17  0.03  0.17   \n",
            "1   0  udp     other  SF  146     0   0   0   0   0  ...  0.00  0.60  0.88   \n",
            "2   0  tcp   private  S0    0     0   0   0   0   0  ...  0.10  0.05  0.00   \n",
            "3   0  tcp      http  SF  232  8153   0   0   0   0  ...  1.00  0.00  0.03   \n",
            "4   0  tcp      http  SF  199   420   0   0   0   0  ...  1.00  0.00  0.00   \n",
            "\n",
            "     36    37    38    39    40       41    42  \n",
            "0  0.00  0.00  0.00  0.05  0.00   normal  20.0  \n",
            "1  0.00  0.00  0.00  0.00  0.00   normal  15.0  \n",
            "2  0.00  1.00  1.00  0.00  0.00  neptune  19.0  \n",
            "3  0.04  0.03  0.01  0.00  0.01   normal  21.0  \n",
            "4  0.00  0.00  0.00  0.00  0.00   normal  21.0  \n",
            "\n",
            "[5 rows x 43 columns]\n"
          ]
        }
      ],
      "source": [
        "import pandas as pd\n",
        "\n",
        "# Load training and test datasets\n",
        "df_train = pd.read_csv('/content/KDDTrain+.csv', header=None)\n",
        "df_test = pd.read_csv('/content/KDDTest+.csv', header=None)\n",
        "\n",
        "# Print dataset statistics\n",
        "print(df_train.info())\n",
        "print(df_train.head())\n"
      ]
    },
    {
      "cell_type": "code",
      "execution_count": null,
      "metadata": {
        "id": "MMhseXCZxPfa"
      },
      "outputs": [],
      "source": [
        "columns = ['duration', 'protocol_type', 'service', 'flag', 'src_bytes', 'dst_bytes',\n",
        "           'land', 'wrong_fragment', 'urgent', 'hot', 'num_failed_logins',\n",
        "           'logged_in', 'num_compromised', 'root_shell', 'su_attempted',\n",
        "           'num_root', 'num_file_creations', 'num_shells', 'num_access_files',\n",
        "           'num_outbound_cmds', 'is_host_login', 'is_guest_login', 'count',\n",
        "           'srv_count', 'serror_rate', 'srv_serror_rate', 'rerror_rate',\n",
        "           'srv_rerror_rate', 'same_srv_rate', 'diff_srv_rate',\n",
        "           'srv_diff_host_rate', 'dst_host_count', 'dst_host_srv_count',\n",
        "           'dst_host_same_srv_rate', 'dst_host_diff_srv_rate',\n",
        "           'dst_host_same_src_port_rate', 'dst_host_srv_diff_host_rate',\n",
        "           'dst_host_serror_rate', 'dst_host_srv_serror_rate',\n",
        "           'dst_host_rerror_rate', 'dst_host_srv_rerror_rate', 'attack_class','unknown_column']\n",
        "           # Add the remaining 32 column names\n",
        "\n",
        "\n",
        "df_train.columns = columns\n",
        "df_test.columns = columns"
      ]
    },
    {
      "cell_type": "code",
      "execution_count": null,
      "metadata": {
        "id": "BpminoP5ypuT"
      },
      "outputs": [],
      "source": [
        "from sklearn.preprocessing import LabelEncoder, StandardScaler, OneHotEncoder\n",
        "from sklearn.compose import ColumnTransformer\n",
        "import pandas as pd\n",
        "\n",
        "# ... (your existing code for loading and encoding 'attack_class') ...\n",
        "\n",
        "# Define categorical and numerical features\n",
        "categorical_features = ['protocol_type', 'service', 'flag']\n",
        "numerical_features = df_train.drop(columns=['attack_class', 'protocol_type', 'service', 'flag']).columns.tolist()\n",
        "\n",
        "# Create transformers for numerical and categorical features\n",
        "numerical_transformer = StandardScaler()\n",
        "categorical_transformer = OneHotEncoder(sparse_output=False, handle_unknown='ignore') # sparse=False for numpy array\n",
        "\n",
        "# Create a ColumnTransformer to apply the transformers to the correct columns\n",
        "preprocessor = ColumnTransformer(\n",
        "    transformers=[\n",
        "        ('num', numerical_transformer, numerical_features),\n",
        "        ('cat', categorical_transformer, categorical_features)])\n",
        "\n",
        "# Apply the preprocessor to your data\n",
        "X_train = preprocessor.fit_transform(df_train.drop(columns=['attack_class']))\n",
        "y_train = df_train['attack_class']\n",
        "X_test = preprocessor.transform(df_test.drop(columns=['attack_class']))\n",
        "y_test = df_test['attack_class']"
      ]
    },
    {
      "cell_type": "code",
      "source": [
        "from sklearn.preprocessing import LabelEncoder, StandardScaler, OneHotEncoder\n",
        "from sklearn.compose import ColumnTransformer\n",
        "import pandas as pd\n",
        "\n",
        "# ... (your existing code for loading and encoding 'attack_class') ...\n",
        "\n",
        "# Define categorical and numerical features\n",
        "categorical_features = ['protocol_type', 'service', 'flag']\n",
        "numerical_features = df_train.drop(columns=['attack_class', 'protocol_type', 'service', 'flag']).columns.tolist()\n",
        "\n",
        "# Create transformers for numerical and categorical features\n",
        "numerical_transformer = StandardScaler()\n",
        "categorical_transformer = OneHotEncoder(sparse_output=False, handle_unknown='ignore') # sparse=False for numpy array\n",
        "\n",
        "# Create a ColumnTransformer to apply the transformers to the correct columns\n",
        "preprocessor = ColumnTransformer(\n",
        "    transformers=[\n",
        "        ('num', numerical_transformer, numerical_features),\n",
        "        ('cat', categorical_transformer, categorical_features)])\n",
        "\n",
        "# Apply the preprocessor to your data\n",
        "# Reset index to avoid potential issues during concatenation\n",
        "X_train_num = pd.DataFrame(numerical_transformer.fit_transform(df_train[numerical_features]))\n",
        "X_train_cat = pd.DataFrame(categorical_transformer.fit_transform(df_train[categorical_features]))\n",
        "X_train_num.reset_index(drop=True, inplace=True)\n",
        "X_train_cat.reset_index(drop=True, inplace=True)\n",
        "X_train = pd.concat([X_train_num, X_train_cat], axis=1)\n",
        "y_train = df_train['attack_class']\n",
        "\n",
        "# Apply the same transformation for X_test\n",
        "X_test_num = pd.DataFrame(numerical_transformer.transform(df_test[numerical_features]))\n",
        "X_test_cat = pd.DataFrame(categorical_transformer.transform(df_test[categorical_features]))\n",
        "X_test_num.reset_index(drop=True, inplace=True)\n",
        "X_test_cat.reset_index(drop=True, inplace=True)\n",
        "X_test = pd.concat([X_test_num, X_test_cat], axis=1)\n",
        "y_test = df_test['attack_class']"
      ],
      "metadata": {
        "id": "_cg5e6hJ71YO"
      },
      "execution_count": null,
      "outputs": []
    },
    {
      "cell_type": "code",
      "source": [
        "import os\n",
        "import joblib\n",
        "\n",
        "# Create the 'models' directory if it doesn't exist\n",
        "os.makedirs('models', exist_ok=True)\n",
        "\n",
        "# Now you can save the model\n",
        "joblib.dump(rf_model, 'models/random_forest.pkl')"
      ],
      "metadata": {
        "colab": {
          "base_uri": "https://localhost:8080/"
        },
        "id": "PU2bz95TCgWk",
        "outputId": "e0323438-fd0c-4025-a5f0-9443b621c429"
      },
      "execution_count": null,
      "outputs": [
        {
          "output_type": "execute_result",
          "data": {
            "text/plain": [
              "['models/random_forest.pkl']"
            ]
          },
          "metadata": {},
          "execution_count": 23
        }
      ]
    },
    {
      "cell_type": "code",
      "source": [
        "from tensorflow.keras.models import Model\n",
        "from tensorflow.keras.layers import Input, Dense\n",
        "\n",
        "input_dim = X_train.shape[1]\n",
        "input_layer = Input(shape=(input_dim,))\n",
        "encoder = Dense(64, activation=\"relu\")(input_layer)\n",
        "encoder = Dense(32, activation=\"relu\")(encoder)\n",
        "decoder = Dense(64, activation=\"relu\")(encoder)\n",
        "decoder = Dense(input_dim, activation=\"sigmoid\")(decoder)\n",
        "\n",
        "autoencoder = Model(inputs=input_layer, outputs=decoder)\n",
        "autoencoder.compile(optimizer='adam', loss='mse')\n",
        "\n",
        "# Train the autoencoder\n",
        "autoencoder.fit(X_train, X_train, epochs=50, batch_size=256, validation_split=0.2)\n",
        "autoencoder.save('models/autoencoder.h5')\n"
      ],
      "metadata": {
        "colab": {
          "base_uri": "https://localhost:8080/"
        },
        "id": "_gtqle5BCnA2",
        "outputId": "74c08c5a-d237-4eb9-ce99-23ab67900275"
      },
      "execution_count": null,
      "outputs": [
        {
          "output_type": "stream",
          "name": "stdout",
          "text": [
            "Epoch 1/50\n",
            "\u001b[1m108/108\u001b[0m \u001b[32m━━━━━━━━━━━━━━━━━━━━\u001b[0m\u001b[37m\u001b[0m \u001b[1m2s\u001b[0m 5ms/step - loss: 0.4622 - val_loss: nan\n",
            "Epoch 2/50\n",
            "\u001b[1m108/108\u001b[0m \u001b[32m━━━━━━━━━━━━━━━━━━━━\u001b[0m\u001b[37m\u001b[0m \u001b[1m0s\u001b[0m 4ms/step - loss: 0.2553 - val_loss: nan\n",
            "Epoch 3/50\n",
            "\u001b[1m108/108\u001b[0m \u001b[32m━━━━━━━━━━━━━━━━━━━━\u001b[0m\u001b[37m\u001b[0m \u001b[1m1s\u001b[0m 4ms/step - loss: 0.2274 - val_loss: nan\n",
            "Epoch 4/50\n",
            "\u001b[1m108/108\u001b[0m \u001b[32m━━━━━━━━━━━━━━━━━━━━\u001b[0m\u001b[37m\u001b[0m \u001b[1m1s\u001b[0m 5ms/step - loss: 0.2330 - val_loss: nan\n",
            "Epoch 5/50\n",
            "\u001b[1m108/108\u001b[0m \u001b[32m━━━━━━━━━━━━━━━━━━━━\u001b[0m\u001b[37m\u001b[0m \u001b[1m0s\u001b[0m 4ms/step - loss: 0.2287 - val_loss: nan\n",
            "Epoch 6/50\n",
            "\u001b[1m108/108\u001b[0m \u001b[32m━━━━━━━━━━━━━━━━━━━━\u001b[0m\u001b[37m\u001b[0m \u001b[1m1s\u001b[0m 4ms/step - loss: 0.2654 - val_loss: nan\n",
            "Epoch 7/50\n",
            "\u001b[1m108/108\u001b[0m \u001b[32m━━━━━━━━━━━━━━━━━━━━\u001b[0m\u001b[37m\u001b[0m \u001b[1m1s\u001b[0m 4ms/step - loss: 0.2124 - val_loss: nan\n",
            "Epoch 8/50\n",
            "\u001b[1m108/108\u001b[0m \u001b[32m━━━━━━━━━━━━━━━━━━━━\u001b[0m\u001b[37m\u001b[0m \u001b[1m1s\u001b[0m 4ms/step - loss: 0.2281 - val_loss: nan\n",
            "Epoch 9/50\n",
            "\u001b[1m108/108\u001b[0m \u001b[32m━━━━━━━━━━━━━━━━━━━━\u001b[0m\u001b[37m\u001b[0m \u001b[1m1s\u001b[0m 7ms/step - loss: 0.2357 - val_loss: nan\n",
            "Epoch 10/50\n",
            "\u001b[1m108/108\u001b[0m \u001b[32m━━━━━━━━━━━━━━━━━━━━\u001b[0m\u001b[37m\u001b[0m \u001b[1m1s\u001b[0m 6ms/step - loss: 0.2240 - val_loss: nan\n",
            "Epoch 11/50\n",
            "\u001b[1m108/108\u001b[0m \u001b[32m━━━━━━━━━━━━━━━━━━━━\u001b[0m\u001b[37m\u001b[0m \u001b[1m1s\u001b[0m 6ms/step - loss: 0.2334 - val_loss: nan\n",
            "Epoch 12/50\n",
            "\u001b[1m108/108\u001b[0m \u001b[32m━━━━━━━━━━━━━━━━━━━━\u001b[0m\u001b[37m\u001b[0m \u001b[1m1s\u001b[0m 6ms/step - loss: 0.2243 - val_loss: nan\n",
            "Epoch 13/50\n",
            "\u001b[1m108/108\u001b[0m \u001b[32m━━━━━━━━━━━━━━━━━━━━\u001b[0m\u001b[37m\u001b[0m \u001b[1m1s\u001b[0m 4ms/step - loss: 0.2305 - val_loss: nan\n",
            "Epoch 14/50\n",
            "\u001b[1m108/108\u001b[0m \u001b[32m━━━━━━━━━━━━━━━━━━━━\u001b[0m\u001b[37m\u001b[0m \u001b[1m1s\u001b[0m 4ms/step - loss: 0.2518 - val_loss: nan\n",
            "Epoch 15/50\n",
            "\u001b[1m108/108\u001b[0m \u001b[32m━━━━━━━━━━━━━━━━━━━━\u001b[0m\u001b[37m\u001b[0m \u001b[1m1s\u001b[0m 4ms/step - loss: 0.2158 - val_loss: nan\n",
            "Epoch 16/50\n",
            "\u001b[1m108/108\u001b[0m \u001b[32m━━━━━━━━━━━━━━━━━━━━\u001b[0m\u001b[37m\u001b[0m \u001b[1m1s\u001b[0m 4ms/step - loss: 0.2125 - val_loss: nan\n",
            "Epoch 17/50\n",
            "\u001b[1m108/108\u001b[0m \u001b[32m━━━━━━━━━━━━━━━━━━━━\u001b[0m\u001b[37m\u001b[0m \u001b[1m0s\u001b[0m 4ms/step - loss: 0.2130 - val_loss: nan\n",
            "Epoch 18/50\n",
            "\u001b[1m108/108\u001b[0m \u001b[32m━━━━━━━━━━━━━━━━━━━━\u001b[0m\u001b[37m\u001b[0m \u001b[1m0s\u001b[0m 4ms/step - loss: 0.2455 - val_loss: nan\n",
            "Epoch 19/50\n",
            "\u001b[1m108/108\u001b[0m \u001b[32m━━━━━━━━━━━━━━━━━━━━\u001b[0m\u001b[37m\u001b[0m \u001b[1m0s\u001b[0m 4ms/step - loss: 0.2225 - val_loss: nan\n",
            "Epoch 20/50\n",
            "\u001b[1m108/108\u001b[0m \u001b[32m━━━━━━━━━━━━━━━━━━━━\u001b[0m\u001b[37m\u001b[0m \u001b[1m1s\u001b[0m 5ms/step - loss: 0.2248 - val_loss: nan\n",
            "Epoch 21/50\n",
            "\u001b[1m108/108\u001b[0m \u001b[32m━━━━━━━━━━━━━━━━━━━━\u001b[0m\u001b[37m\u001b[0m \u001b[1m1s\u001b[0m 4ms/step - loss: 0.2205 - val_loss: nan\n",
            "Epoch 22/50\n",
            "\u001b[1m108/108\u001b[0m \u001b[32m━━━━━━━━━━━━━━━━━━━━\u001b[0m\u001b[37m\u001b[0m \u001b[1m1s\u001b[0m 4ms/step - loss: 0.2856 - val_loss: nan\n",
            "Epoch 23/50\n",
            "\u001b[1m108/108\u001b[0m \u001b[32m━━━━━━━━━━━━━━━━━━━━\u001b[0m\u001b[37m\u001b[0m \u001b[1m1s\u001b[0m 5ms/step - loss: 0.2124 - val_loss: nan\n",
            "Epoch 24/50\n",
            "\u001b[1m108/108\u001b[0m \u001b[32m━━━━━━━━━━━━━━━━━━━━\u001b[0m\u001b[37m\u001b[0m \u001b[1m0s\u001b[0m 4ms/step - loss: 0.2500 - val_loss: nan\n",
            "Epoch 25/50\n",
            "\u001b[1m108/108\u001b[0m \u001b[32m━━━━━━━━━━━━━━━━━━━━\u001b[0m\u001b[37m\u001b[0m \u001b[1m0s\u001b[0m 4ms/step - loss: 0.2324 - val_loss: nan\n",
            "Epoch 26/50\n",
            "\u001b[1m108/108\u001b[0m \u001b[32m━━━━━━━━━━━━━━━━━━━━\u001b[0m\u001b[37m\u001b[0m \u001b[1m1s\u001b[0m 4ms/step - loss: 0.2301 - val_loss: nan\n",
            "Epoch 27/50\n",
            "\u001b[1m108/108\u001b[0m \u001b[32m━━━━━━━━━━━━━━━━━━━━\u001b[0m\u001b[37m\u001b[0m \u001b[1m1s\u001b[0m 5ms/step - loss: 0.2302 - val_loss: nan\n",
            "Epoch 28/50\n",
            "\u001b[1m108/108\u001b[0m \u001b[32m━━━━━━━━━━━━━━━━━━━━\u001b[0m\u001b[37m\u001b[0m \u001b[1m0s\u001b[0m 4ms/step - loss: 0.2457 - val_loss: nan\n",
            "Epoch 29/50\n",
            "\u001b[1m108/108\u001b[0m \u001b[32m━━━━━━━━━━━━━━━━━━━━\u001b[0m\u001b[37m\u001b[0m \u001b[1m1s\u001b[0m 6ms/step - loss: 0.1986 - val_loss: nan\n",
            "Epoch 30/50\n",
            "\u001b[1m108/108\u001b[0m \u001b[32m━━━━━━━━━━━━━━━━━━━━\u001b[0m\u001b[37m\u001b[0m \u001b[1m1s\u001b[0m 7ms/step - loss: 0.2339 - val_loss: nan\n",
            "Epoch 31/50\n",
            "\u001b[1m108/108\u001b[0m \u001b[32m━━━━━━━━━━━━━━━━━━━━\u001b[0m\u001b[37m\u001b[0m \u001b[1m1s\u001b[0m 6ms/step - loss: 0.2362 - val_loss: nan\n",
            "Epoch 32/50\n",
            "\u001b[1m108/108\u001b[0m \u001b[32m━━━━━━━━━━━━━━━━━━━━\u001b[0m\u001b[37m\u001b[0m \u001b[1m1s\u001b[0m 7ms/step - loss: 0.2276 - val_loss: nan\n",
            "Epoch 33/50\n",
            "\u001b[1m108/108\u001b[0m \u001b[32m━━━━━━━━━━━━━━━━━━━━\u001b[0m\u001b[37m\u001b[0m \u001b[1m1s\u001b[0m 8ms/step - loss: 0.2112 - val_loss: nan\n",
            "Epoch 34/50\n",
            "\u001b[1m108/108\u001b[0m \u001b[32m━━━━━━━━━━━━━━━━━━━━\u001b[0m\u001b[37m\u001b[0m \u001b[1m1s\u001b[0m 4ms/step - loss: 0.2808 - val_loss: nan\n",
            "Epoch 35/50\n",
            "\u001b[1m108/108\u001b[0m \u001b[32m━━━━━━━━━━━━━━━━━━━━\u001b[0m\u001b[37m\u001b[0m \u001b[1m1s\u001b[0m 4ms/step - loss: 0.2334 - val_loss: nan\n",
            "Epoch 36/50\n",
            "\u001b[1m108/108\u001b[0m \u001b[32m━━━━━━━━━━━━━━━━━━━━\u001b[0m\u001b[37m\u001b[0m \u001b[1m1s\u001b[0m 4ms/step - loss: 0.2768 - val_loss: nan\n",
            "Epoch 37/50\n",
            "\u001b[1m108/108\u001b[0m \u001b[32m━━━━━━━━━━━━━━━━━━━━\u001b[0m\u001b[37m\u001b[0m \u001b[1m1s\u001b[0m 5ms/step - loss: 0.2156 - val_loss: nan\n",
            "Epoch 38/50\n",
            "\u001b[1m108/108\u001b[0m \u001b[32m━━━━━━━━━━━━━━━━━━━━\u001b[0m\u001b[37m\u001b[0m \u001b[1m0s\u001b[0m 4ms/step - loss: 0.2696 - val_loss: nan\n",
            "Epoch 39/50\n",
            "\u001b[1m108/108\u001b[0m \u001b[32m━━━━━━━━━━━━━━━━━━━━\u001b[0m\u001b[37m\u001b[0m \u001b[1m1s\u001b[0m 5ms/step - loss: 0.2176 - val_loss: nan\n",
            "Epoch 40/50\n",
            "\u001b[1m108/108\u001b[0m \u001b[32m━━━━━━━━━━━━━━━━━━━━\u001b[0m\u001b[37m\u001b[0m \u001b[1m0s\u001b[0m 4ms/step - loss: 0.2491 - val_loss: nan\n",
            "Epoch 41/50\n",
            "\u001b[1m108/108\u001b[0m \u001b[32m━━━━━━━━━━━━━━━━━━━━\u001b[0m\u001b[37m\u001b[0m \u001b[1m0s\u001b[0m 4ms/step - loss: 0.2318 - val_loss: nan\n",
            "Epoch 42/50\n",
            "\u001b[1m108/108\u001b[0m \u001b[32m━━━━━━━━━━━━━━━━━━━━\u001b[0m\u001b[37m\u001b[0m \u001b[1m1s\u001b[0m 4ms/step - loss: 0.2490 - val_loss: nan\n",
            "Epoch 43/50\n",
            "\u001b[1m108/108\u001b[0m \u001b[32m━━━━━━━━━━━━━━━━━━━━\u001b[0m\u001b[37m\u001b[0m \u001b[1m1s\u001b[0m 4ms/step - loss: 0.2316 - val_loss: nan\n",
            "Epoch 44/50\n",
            "\u001b[1m108/108\u001b[0m \u001b[32m━━━━━━━━━━━━━━━━━━━━\u001b[0m\u001b[37m\u001b[0m \u001b[1m1s\u001b[0m 4ms/step - loss: 0.2274 - val_loss: nan\n",
            "Epoch 45/50\n",
            "\u001b[1m108/108\u001b[0m \u001b[32m━━━━━━━━━━━━━━━━━━━━\u001b[0m\u001b[37m\u001b[0m \u001b[1m0s\u001b[0m 4ms/step - loss: 0.2194 - val_loss: nan\n",
            "Epoch 46/50\n",
            "\u001b[1m108/108\u001b[0m \u001b[32m━━━━━━━━━━━━━━━━━━━━\u001b[0m\u001b[37m\u001b[0m \u001b[1m0s\u001b[0m 4ms/step - loss: 0.2272 - val_loss: nan\n",
            "Epoch 47/50\n",
            "\u001b[1m108/108\u001b[0m \u001b[32m━━━━━━━━━━━━━━━━━━━━\u001b[0m\u001b[37m\u001b[0m \u001b[1m1s\u001b[0m 5ms/step - loss: 0.2376 - val_loss: nan\n",
            "Epoch 48/50\n",
            "\u001b[1m108/108\u001b[0m \u001b[32m━━━━━━━━━━━━━━━━━━━━\u001b[0m\u001b[37m\u001b[0m \u001b[1m1s\u001b[0m 5ms/step - loss: 0.2295 - val_loss: nan\n",
            "Epoch 49/50\n",
            "\u001b[1m108/108\u001b[0m \u001b[32m━━━━━━━━━━━━━━━━━━━━\u001b[0m\u001b[37m\u001b[0m \u001b[1m1s\u001b[0m 4ms/step - loss: 0.2103 - val_loss: nan\n",
            "Epoch 50/50\n",
            "\u001b[1m108/108\u001b[0m \u001b[32m━━━━━━━━━━━━━━━━━━━━\u001b[0m\u001b[37m\u001b[0m \u001b[1m1s\u001b[0m 5ms/step - loss: 0.2011 - val_loss: nan\n"
          ]
        },
        {
          "output_type": "stream",
          "name": "stderr",
          "text": [
            "WARNING:absl:You are saving your model as an HDF5 file via `model.save()` or `keras.saving.save_model(model)`. This file format is considered legacy. We recommend using instead the native Keras format, e.g. `model.save('my_model.keras')` or `keras.saving.save_model(model, 'my_model.keras')`. \n"
          ]
        }
      ]
    },
    {
      "cell_type": "code",
      "source": [
        "import numpy as np\n",
        "from sklearn.metrics import mean_squared_error\n",
        "\n",
        "# Predict reconstruction\n",
        "X_train_pred = autoencoder.predict(X_train)\n",
        "X_test_pred = autoencoder.predict(X_test)\n",
        "\n",
        "# Calculate reconstruction error\n",
        "train_errors = np.mean(np.square(X_train - X_train_pred), axis=1)\n",
        "test_errors = np.mean(np.square(X_test - X_test_pred), axis=1)\n",
        "\n",
        "# Set a threshold for anomaly detection (e.g., 95th percentile of training errors)\n",
        "threshold = np.percentile(train_errors, 95)\n",
        "\n",
        "print(f\"Reconstruction Error Threshold: {threshold}\")\n",
        "\n",
        "# Identify anomalies\n",
        "test_anomalies = test_errors > threshold\n",
        "print(f\"Number of anomalies detected: {np.sum(test_anomalies)}\")\n"
      ],
      "metadata": {
        "colab": {
          "base_uri": "https://localhost:8080/"
        },
        "id": "FMH6N_D88h3H",
        "outputId": "d6967195-d0a9-4519-dac1-08cd556d3ef5"
      },
      "execution_count": null,
      "outputs": [
        {
          "output_type": "stream",
          "name": "stdout",
          "text": [
            "\u001b[1m1080/1080\u001b[0m \u001b[32m━━━━━━━━━━━━━━━━━━━━\u001b[0m\u001b[37m\u001b[0m \u001b[1m2s\u001b[0m 1ms/step\n",
            "\u001b[1m705/705\u001b[0m \u001b[32m━━━━━━━━━━━━━━━━━━━━\u001b[0m\u001b[37m\u001b[0m \u001b[1m1s\u001b[0m 1ms/step\n",
            "Reconstruction Error Threshold: nan\n",
            "Number of anomalies detected: 0\n"
          ]
        }
      ]
    },
    {
      "cell_type": "code",
      "source": [
        "import matplotlib.pyplot as plt\n",
        "\n",
        "plt.hist(train_errors, bins=50, alpha=0.7, label=\"Training Reconstruction Errors\")\n",
        "plt.hist(test_errors, bins=50, alpha=0.7, label=\"Test Reconstruction Errors\")\n",
        "plt.axvline(threshold, color='r', linestyle='--', label='Anomaly Threshold')\n",
        "plt.legend()\n",
        "plt.title(\"Reconstruction Errors\")\n",
        "plt.show()\n"
      ],
      "metadata": {
        "colab": {
          "base_uri": "https://localhost:8080/",
          "height": 452
        },
        "id": "Q_3R81D_8pXi",
        "outputId": "aa8e769a-83e8-478a-d5c8-e1ff0d23a34d"
      },
      "execution_count": null,
      "outputs": [
        {
          "output_type": "display_data",
          "data": {
            "text/plain": [
              "<Figure size 640x480 with 1 Axes>"
            ],
            "image/png": "[encoded data removed]"
          },
          "metadata": {}
        }
      ]
    },
    {
      "cell_type": "code",
      "source": [
        "# Add reconstruction error as a feature\n",
        "X_train_features = np.column_stack([X_train, train_errors])\n",
        "X_test_features = np.column_stack([X_test, test_errors])\n"
      ],
      "metadata": {
        "id": "ihn_MHLY8y1O"
      },
      "execution_count": null,
      "outputs": []
    },
    {
      "cell_type": "code",
      "source": [
        "from sklearn.ensemble import RandomForestClassifier\n",
        "from sklearn.metrics import classification_report\n",
        "from sklearn.preprocessing import LabelEncoder\n",
        "\n",
        "# Assuming y_test is the original target variable for the test set\n",
        "encoder = LabelEncoder()\n",
        "y_test_encoded = encoder.fit_transform(y_test)\n",
        "\n",
        "# No need to slice y_train_encoded as it's already the correct size\n",
        "# y_train_encoded = y_train_encoded[:X_train_features.shape[0]]\n",
        "\n",
        "rf_model = RandomForestClassifier(n_estimators=100, random_state=42)\n",
        "rf_model.fit(X_train_features, y_train_encoded)\n",
        "\n",
        "# Evaluate the model\n",
        "y_pred = rf_model.predict(X_test_features)\n",
        "print(classification_report(y_test_encoded, y_pred,zero_division=1))"
      ],
      "metadata": {
        "colab": {
          "base_uri": "https://localhost:8080/"
        },
        "id": "i9VvUjae9nTM",
        "outputId": "1fadf90b-ac82-4586-b9ec-93969cb616bb"
      },
      "execution_count": null,
      "outputs": [
        {
          "output_type": "stream",
          "name": "stdout",
          "text": [
            "              precision    recall  f1-score   support\n",
            "\n",
            "           0       0.11      0.06      0.08       737\n",
            "           1       0.00      0.00      0.00       359\n",
            "           2       0.00      0.00      0.00        20\n",
            "           3       1.00      0.00      0.00         3\n",
            "           4       1.00      0.00      0.00      1231\n",
            "           5       0.00      0.00      0.00       133\n",
            "           6       0.00      0.00      0.00         1\n",
            "           7       1.00      0.00      0.00       141\n",
            "           8       0.00      0.00      0.00         7\n",
            "           9       0.00      0.00      0.00         2\n",
            "          10       0.00      0.00      0.00       293\n",
            "          11       0.05      0.80      0.10       996\n",
            "          12       0.00      0.00      0.00        18\n",
            "          13       0.00      0.00      0.00        17\n",
            "          14       0.01      0.00      0.00      4657\n",
            "          15       0.00      0.00      0.00        73\n",
            "          16       0.12      0.01      0.03      9711\n",
            "          17       0.00      0.00      0.00         2\n",
            "          18       1.00      0.00      0.00         2\n",
            "          19       0.00      0.00      0.00        41\n",
            "          20       0.00      0.00      0.00       157\n",
            "          21       1.00      0.00      0.00       685\n",
            "          22       1.00      0.00      0.00        15\n",
            "          23       1.00      0.00      0.00        13\n",
            "          24       1.00      0.00      0.00       319\n",
            "          25       1.00      0.00      0.00       735\n",
            "          26       1.00      0.00      0.00        14\n",
            "          27       1.00      0.00      0.00       665\n",
            "          28       1.00      0.00      0.00       178\n",
            "          29       1.00      0.00      0.00       331\n",
            "          30       1.00      0.00      0.00         2\n",
            "          31       1.00      0.00      0.00        12\n",
            "          32       1.00      0.00      0.00         2\n",
            "          33       1.00      0.00      0.00       944\n",
            "          34       1.00      0.00      0.00         2\n",
            "          35       1.00      0.00      0.00         9\n",
            "          36       1.00      0.00      0.00         4\n",
            "          37       1.00      0.00      0.00        13\n",
            "\n",
            "    accuracy                           0.04     22544\n",
            "   macro avg       0.56      0.02      0.01     22544\n",
            "weighted avg       0.30      0.04      0.02     22544\n",
            "\n"
          ]
        }
      ]
    },
    {
      "cell_type": "code",
      "source": [
        "!pip install kafka-python"
      ],
      "metadata": {
        "colab": {
          "base_uri": "https://localhost:8080/"
        },
        "id": "IwzDfx_M_CcA",
        "outputId": "e9d8fb9c-7529-4881-da43-226044d76e55"
      },
      "execution_count": null,
      "outputs": [
        {
          "output_type": "stream",
          "name": "stdout",
          "text": [
            "Collecting kafka-python\n",
            "  Downloading kafka_python-2.0.2-py2.py3-none-any.whl.metadata (7.8 kB)\n",
            "Downloading kafka_python-2.0.2-py2.py3-none-any.whl (246 kB)\n",
            "\u001b[?25l   \u001b[90m━━━━━━━━━━━━━━━━━━━━━━━━━━━━━━━━━━━━━━━━\u001b[0m \u001b[32m0.0/246.5 kB\u001b[0m \u001b[31m?\u001b[0m eta \u001b[36m-:--:--\u001b[0m\r\u001b[2K   \u001b[90m━━━━━━━━━━━━━━━━━━━━━━━━━━━━━━━━━━━━━━━━\u001b[0m \u001b[32m246.5/246.5 kB\u001b[0m \u001b[31m14.8 MB/s\u001b[0m eta \u001b[36m0:00:00\u001b[0m\n",
            "\u001b[?25hInstalling collected packages: kafka-python\n",
            "Successfully installed kafka-python-2.0.2\n"
          ]
        }
      ]
    },
    {
      "cell_type": "code",
      "source": [
        "!docker run -d -p 2181:2181 -p 9092:9092 --env ADVERTISED_HOST=localhost --env ADVERTISED_PORT=9092 confluentinc/cp-kafka:7.3.1"
      ],
      "metadata": {
        "colab": {
          "base_uri": "https://localhost:8080/"
        },
        "id": "S5DQTZCA_boc",
        "outputId": "f7d257b3-ae1a-4614-f446-376db1565780"
      },
      "execution_count": null,
      "outputs": [
        {
          "output_type": "stream",
          "name": "stdout",
          "text": [
            "/bin/bash: line 1: docker: command not found\n"
          ]
        }
      ]
    },
    {
      "cell_type": "code",
      "source": [
        "!apt-get update && apt-get install -y netcat"
      ],
      "metadata": {
        "colab": {
          "base_uri": "https://localhost:8080/"
        },
        "id": "3Bt4i5bpBJwz",
        "outputId": "e9d15561-5c39-4b75-e790-faabed7fb506"
      },
      "execution_count": null,
      "outputs": [
        {
          "output_type": "stream",
          "name": "stdout",
          "text": [
            "\r0% [Working]\r            \rHit:1 http://archive.ubuntu.com/ubuntu jammy InRelease\n",
            "\r0% [Waiting for headers] [Waiting for headers] [Connected to cloud.r-project.org (3.171.85.81)] [Con\r                                                                                                    \rGet:2 http://archive.ubuntu.com/ubuntu jammy-updates InRelease [128 kB]\n",
            "\r                                                                                                    \rGet:3 http://security.ubuntu.com/ubuntu jammy-security InRelease [129 kB]\n",
            "\r                                                                                                    \rGet:4 https://cloud.r-project.org/bin/linux/ubuntu jammy-cran40/ InRelease [3,626 B]\n",
            "\r0% [2 InRelease 69.2 kB/128 kB 54%] [3 InRelease 108 kB/129 kB 84%] [Connected to r2u.stat.illinois.\r0% [2 InRelease 82.2 kB/128 kB 64%] [Connected to r2u.stat.illinois.edu (192.17.190.167)] [Connected\r0% [Waiting for headers] [Connected to r2u.stat.illinois.edu (192.17.190.167)] [Waiting for headers]\r                                                                                                    \rGet:5 http://archive.ubuntu.com/ubuntu jammy-backports InRelease [127 kB]\n",
            "\r0% [5 InRelease 15.6 kB/127 kB 12%] [Waiting for headers] [Waiting for headers] [Connected to ppa.la\r0% [Waiting for headers] [Waiting for headers] [Connected to ppa.launchpadcontent.net (185.125.190.8\r                                                                                                    \rHit:6 https://developer.download.nvidia.com/compute/cuda/repos/ubuntu2204/x86_64  InRelease\n",
            "Get:7 https://r2u.stat.illinois.edu/ubuntu jammy InRelease [6,555 B]\n",
            "Hit:8 https://ppa.launchpadcontent.net/deadsnakes/ppa/ubuntu jammy InRelease\n",
            "Get:9 https://cloud.r-project.org/bin/linux/ubuntu jammy-cran40/ Packages [60.9 kB]\n",
            "Hit:10 https://ppa.launchpadcontent.net/graphics-drivers/ppa/ubuntu jammy InRelease\n",
            "Hit:11 https://ppa.launchpadcontent.net/ubuntugis/ppa/ubuntu jammy InRelease\n",
            "Get:12 http://security.ubuntu.com/ubuntu jammy-security/universe amd64 Packages [1,226 kB]\n",
            "Get:13 http://security.ubuntu.com/ubuntu jammy-security/main amd64 Packages [2,503 kB]\n",
            "Get:14 http://security.ubuntu.com/ubuntu jammy-security/restricted amd64 Packages [3,429 kB]\n",
            "Get:15 http://archive.ubuntu.com/ubuntu jammy-updates/universe amd64 Packages [1,516 kB]\n",
            "Get:16 http://archive.ubuntu.com/ubuntu jammy-updates/restricted amd64 Packages [3,550 kB]\n",
            "Get:17 http://archive.ubuntu.com/ubuntu jammy-updates/main amd64 Packages [2,790 kB]\n",
            "Get:18 https://r2u.stat.illinois.edu/ubuntu jammy/main all Packages [8,551 kB]\n",
            "Get:19 https://r2u.stat.illinois.edu/ubuntu jammy/main amd64 Packages [2,632 kB]\n",
            "Fetched 26.7 MB in 3s (9,469 kB/s)\n",
            "Reading package lists... Done\n",
            "W: Skipping acquire of configured file 'main/source/Sources' as repository 'https://r2u.stat.illinois.edu/ubuntu jammy InRelease' does not seem to provide it (sources.list entry misspelt?)\n",
            "Reading package lists... Done\n",
            "Building dependency tree... Done\n",
            "Reading state information... Done\n",
            "The following additional packages will be installed:\n",
            "  netcat-openbsd\n",
            "The following NEW packages will be installed:\n",
            "  netcat netcat-openbsd\n",
            "0 upgraded, 2 newly installed, 0 to remove and 57 not upgraded.\n",
            "Need to get 41.4 kB of archives.\n",
            "After this operation, 126 kB of additional disk space will be used.\n",
            "Get:1 http://archive.ubuntu.com/ubuntu jammy/main amd64 netcat-openbsd amd64 1.218-4ubuntu1 [39.4 kB]\n",
            "Get:2 http://archive.ubuntu.com/ubuntu jammy/universe amd64 netcat all 1.218-4ubuntu1 [2,044 B]\n",
            "Fetched 41.4 kB in 0s (112 kB/s)\n",
            "Selecting previously unselected package netcat-openbsd.\n",
            "(Reading database ... 123633 files and directories currently installed.)\n",
            "Preparing to unpack .../netcat-openbsd_1.218-4ubuntu1_amd64.deb ...\n",
            "Unpacking netcat-openbsd (1.218-4ubuntu1) ...\n",
            "Selecting previously unselected package netcat.\n",
            "Preparing to unpack .../netcat_1.218-4ubuntu1_all.deb ...\n",
            "Unpacking netcat (1.218-4ubuntu1) ...\n",
            "Setting up netcat-openbsd (1.218-4ubuntu1) ...\n",
            "update-alternatives: using /bin/nc.openbsd to provide /bin/nc (nc) in auto mode\n",
            "Setting up netcat (1.218-4ubuntu1) ...\n",
            "Processing triggers for man-db (2.10.2-1) ...\n"
          ]
        }
      ]
    },
    {
      "cell_type": "code",
      "source": [
        "!nc -zv 192.168.1.100 9092"
      ],
      "metadata": {
        "colab": {
          "base_uri": "https://localhost:8080/"
        },
        "id": "z2aPjAPuA6fF",
        "outputId": "fe015913-fb06-443b-9afe-bca0ff814aa1"
      },
      "execution_count": null,
      "outputs": [
        {
          "output_type": "stream",
          "name": "stdout",
          "text": [
            "nc: connect to 192.168.1.100 port 9092 (tcp) failed: Connection timed out\n"
          ]
        }
      ]
    },
    {
      "cell_type": "code",
      "source": [
        "!apt-get update && apt-get install -y iputils-ping\n"
      ],
      "metadata": {
        "colab": {
          "base_uri": "https://localhost:8080/"
        },
        "id": "YRie-lkUEfS8",
        "outputId": "5cce81b1-1b7e-4c2b-a096-8b47f67136cd"
      },
      "execution_count": null,
      "outputs": [
        {
          "output_type": "stream",
          "name": "stdout",
          "text": [
            "\r0% [Working]\r            \rHit:1 https://cloud.r-project.org/bin/linux/ubuntu jammy-cran40/ InRelease\n",
            "\r0% [Connecting to archive.ubuntu.com (185.125.190.82)] [Connecting to security.ubuntu.com (185.125.1\r                                                                                                    \rHit:2 https://developer.download.nvidia.com/compute/cuda/repos/ubuntu2204/x86_64  InRelease\n",
            "\r0% [Waiting for headers] [Waiting for headers] [Waiting for headers] [Connecting to ppa.launchpadcon\r                                                                                                    \rHit:3 http://security.ubuntu.com/ubuntu jammy-security InRelease\n",
            "\r0% [Waiting for headers] [Waiting for headers] [Connecting to ppa.launchpadcontent.net (185.125.190.\r                                                                                                    \rHit:4 http://archive.ubuntu.com/ubuntu jammy InRelease\n",
            "\r0% [Waiting for headers] [Waiting for headers] [Connecting to ppa.launchpadcontent.net (185.125.190.\r                                                                                                    \rHit:5 https://r2u.stat.illinois.edu/ubuntu jammy InRelease\n",
            "Hit:6 http://archive.ubuntu.com/ubuntu jammy-updates InRelease\n",
            "Hit:7 http://archive.ubuntu.com/ubuntu jammy-backports InRelease\n",
            "Hit:8 https://ppa.launchpadcontent.net/deadsnakes/ppa/ubuntu jammy InRelease\n",
            "Hit:9 https://ppa.launchpadcontent.net/graphics-drivers/ppa/ubuntu jammy InRelease\n",
            "Hit:10 https://ppa.launchpadcontent.net/ubuntugis/ppa/ubuntu jammy InRelease\n",
            "Reading package lists... Done\n",
            "W: Skipping acquire of configured file 'main/source/Sources' as repository 'https://r2u.stat.illinois.edu/ubuntu jammy InRelease' does not seem to provide it (sources.list entry misspelt?)\n",
            "Reading package lists... Done\n",
            "Building dependency tree... Done\n",
            "Reading state information... Done\n",
            "The following NEW packages will be installed:\n",
            "  iputils-ping\n",
            "0 upgraded, 1 newly installed, 0 to remove and 57 not upgraded.\n",
            "Need to get 42.9 kB of archives.\n",
            "After this operation, 116 kB of additional disk space will be used.\n",
            "Get:1 http://archive.ubuntu.com/ubuntu jammy/main amd64 iputils-ping amd64 3:20211215-1 [42.9 kB]\n",
            "Fetched 42.9 kB in 0s (149 kB/s)\n",
            "Selecting previously unselected package iputils-ping.\n",
            "(Reading database ... 123658 files and directories currently installed.)\n",
            "Preparing to unpack .../iputils-ping_3%3a20211215-1_amd64.deb ...\n",
            "Unpacking iputils-ping (3:20211215-1) ...\n",
            "Setting up iputils-ping (3:20211215-1) ...\n",
            "Processing triggers for man-db (2.10.2-1) ...\n"
          ]
        }
      ]
    },
    {
      "cell_type": "code",
      "source": [
        "!ping 192.168.1.100\n"
      ],
      "metadata": {
        "colab": {
          "base_uri": "https://localhost:8080/"
        },
        "id": "11EEVtmlDuwh",
        "outputId": "11795dd0-2c73-4316-9eb3-b3dffb624c6b"
      },
      "execution_count": null,
      "outputs": [
        {
          "output_type": "stream",
          "name": "stdout",
          "text": [
            "PING 192.168.1.100 (192.168.1.100) 56(84) bytes of data.\n",
            "\n",
            "--- 192.168.1.100 ping statistics ---\n",
            "396 packets transmitted, 0 received, 100% packet loss, time 404475ms\n",
            "\n"
          ]
        }
      ]
    },
    {
      "cell_type": "code",
      "source": [
        "!bin/zookeeper-server-start.sh config/zookeeper.properties"
      ],
      "metadata": {
        "colab": {
          "base_uri": "https://localhost:8080/"
        },
        "id": "shxANcD6IK_2",
        "outputId": "88f38918-9f17-4709-af9e-d58ba03b3076"
      },
      "execution_count": null,
      "outputs": [
        {
          "output_type": "stream",
          "name": "stdout",
          "text": [
            "/bin/bash: line 1: bin/zookeeper-server-start.sh: No such file or directory\n"
          ]
        }
      ]
    },
    {
      "cell_type": "code",
      "source": [
        "!bin/kafka-server-start.sh config/server.properties"
      ],
      "metadata": {
        "colab": {
          "base_uri": "https://localhost:8080/"
        },
        "id": "zW1d7u2fI0vF",
        "outputId": "add4811d-6447-4538-9591-fd786e7fa469"
      },
      "execution_count": null,
      "outputs": [
        {
          "output_type": "stream",
          "name": "stdout",
          "text": [
            "/bin/bash: line 1: bin/kafka-server-start.sh: No such file or directory\n"
          ]
        }
      ]
    },
    {
      "cell_type": "code",
      "source": [
        "!bin/kafka-topics.sh --create --topic network_traffic --bootstrap-server localhost:9092 --partitions 1 --replication-factor 1"
      ],
      "metadata": {
        "colab": {
          "base_uri": "https://localhost:8080/"
        },
        "id": "9kBS-yMQJlTX",
        "outputId": "6bb00a7a-c06f-43ca-aa67-abd5d7730e6b"
      },
      "execution_count": null,
      "outputs": [
        {
          "output_type": "stream",
          "name": "stdout",
          "text": [
            "/bin/bash: line 1: bin/kafka-topics.sh: No such file or directory\n"
          ]
        }
      ]
    },
    {
      "cell_type": "code",
      "source": [
        "!bin/kafka-topics.sh --list --bootstrap-server localhost:9092"
      ],
      "metadata": {
        "colab": {
          "base_uri": "https://localhost:8080/"
        },
        "id": "gzGSsrB9Jvk7",
        "outputId": "9f43ee52-aab2-46aa-a88e-b5720a974815"
      },
      "execution_count": null,
      "outputs": [
        {
          "output_type": "stream",
          "name": "stdout",
          "text": [
            "/bin/bash: line 1: bin/kafka-topics.sh: No such file or directory\n"
          ]
        }
      ]
    },
    {
      "cell_type": "code",
      "source": [
        "!pip install kafka-python\n"
      ],
      "metadata": {
        "colab": {
          "base_uri": "https://localhost:8080/"
        },
        "id": "ZZqeZtB-KXUZ",
        "outputId": "e055184e-debb-46bf-ed49-b4cfacf2e09d"
      },
      "execution_count": null,
      "outputs": [
        {
          "output_type": "stream",
          "name": "stdout",
          "text": [
            "Requirement already satisfied: kafka-python in /usr/local/lib/python3.10/dist-packages (2.0.2)\n"
          ]
        }
      ]
    },
    {
      "cell_type": "code",
      "source": [
        "import json\n",
        "import time\n",
        "import random\n",
        "from queue import Queue  # Use a Python queue to simulate the Kafka topic\n",
        "\n",
        "# Simulated Kafka topic as a queue\n",
        "kafka_topic = Queue()\n",
        "\n",
        "# Simulated Network Log Generator\n",
        "def generate_network_data():\n",
        "    protocols = ['TCP', 'UDP', 'ICMP']\n",
        "    return {\n",
        "        \"Timestamp\": time.strftime(\"%Y-%m-%d %H:%M:%S\"),\n",
        "        \"Source_IP\": f\"192.168.1.{random.randint(1, 255)}\",\n",
        "        \"Destination_IP\": f\"192.168.1.{random.randint(1, 255)}\",\n",
        "        \"Protocol\": random.choice(protocols),\n",
        "        \"Message\": \"Simulated network log\"\n",
        "    }\n",
        "\n",
        "# Simulate Producer\n",
        "for _ in range(10):  # Produce 10 messages (or run infinitely with while True)\n",
        "    network_log = generate_network_data()\n",
        "    kafka_topic.put(json.dumps(network_log))  # Send message to the 'Kafka topic'\n",
        "    print(f\"Produced: {network_log}\")\n",
        "    time.sleep(1)\n"
      ],
      "metadata": {
        "colab": {
          "base_uri": "https://localhost:8080/"
        },
        "id": "JGCd9xmgKbZ_",
        "outputId": "04b50d7f-7154-48d0-81b9-b01dcf041646"
      },
      "execution_count": null,
      "outputs": [
        {
          "output_type": "stream",
          "name": "stdout",
          "text": [
            "Produced: {'Timestamp': '2024-12-17 15:07:44', 'Source_IP': '192.168.1.105', 'Destination_IP': '192.168.1.118', 'Protocol': 'TCP', 'Message': 'Simulated network log'}\n",
            "Produced: {'Timestamp': '2024-12-17 15:07:45', 'Source_IP': '192.168.1.143', 'Destination_IP': '192.168.1.184', 'Protocol': 'ICMP', 'Message': 'Simulated network log'}\n",
            "Produced: {'Timestamp': '2024-12-17 15:07:46', 'Source_IP': '192.168.1.26', 'Destination_IP': '192.168.1.115', 'Protocol': 'TCP', 'Message': 'Simulated network log'}\n",
            "Produced: {'Timestamp': '2024-12-17 15:07:47', 'Source_IP': '192.168.1.202', 'Destination_IP': '192.168.1.38', 'Protocol': 'TCP', 'Message': 'Simulated network log'}\n",
            "Produced: {'Timestamp': '2024-12-17 15:07:48', 'Source_IP': '192.168.1.171', 'Destination_IP': '192.168.1.88', 'Protocol': 'ICMP', 'Message': 'Simulated network log'}\n",
            "Produced: {'Timestamp': '2024-12-17 15:07:49', 'Source_IP': '192.168.1.198', 'Destination_IP': '192.168.1.24', 'Protocol': 'TCP', 'Message': 'Simulated network log'}\n",
            "Produced: {'Timestamp': '2024-12-17 15:07:50', 'Source_IP': '192.168.1.5', 'Destination_IP': '192.168.1.229', 'Protocol': 'TCP', 'Message': 'Simulated network log'}\n",
            "Produced: {'Timestamp': '2024-12-17 15:07:51', 'Source_IP': '192.168.1.119', 'Destination_IP': '192.168.1.33', 'Protocol': 'TCP', 'Message': 'Simulated network log'}\n",
            "Produced: {'Timestamp': '2024-12-17 15:07:52', 'Source_IP': '192.168.1.43', 'Destination_IP': '192.168.1.239', 'Protocol': 'UDP', 'Message': 'Simulated network log'}\n",
            "Produced: {'Timestamp': '2024-12-17 15:07:53', 'Source_IP': '192.168.1.188', 'Destination_IP': '192.168.1.33', 'Protocol': 'ICMP', 'Message': 'Simulated network log'}\n"
          ]
        }
      ]
    },
    {
      "cell_type": "code",
      "source": [
        "from tensorflow.keras.models import load_model\n",
        "import numpy as np\n",
        "import json\n",
        "from tensorflow.keras.losses import MeanSquaredError # Import MeanSquaredError\n",
        "\n",
        "# Load the pre-trained Autoencoder model\n",
        "# Assume you've already trained the model and saved it as 'autoencoder.h5'\n",
        "autoencoder = load_model('models/autoencoder.h5', custom_objects={'mse': MeanSquaredError}) # Specify MeanSquaredError\n",
        "\n",
        "# Simulated Consumer\n",
        "while not kafka_topic.empty():  # Read messages until the queue is empty\n",
        "    message = kafka_topic.get()  # Fetch the next 'Kafka' message\n",
        "    network_log = json.loads(message)\n",
        "    print(f\"Consumed: {network_log}\")\n",
        "\n",
        "    # Convert log into features (customize this feature extraction logic)\n",
        "    # Ensure the feature extraction logic matches the training data\n",
        "    # You need to extract 120 features instead of 5.\n",
        "    # This is a placeholder - you'll need to replace with your actual feature extraction\n",
        "    # based on the features used during training.\n",
        "\n",
        "    # Example: Assume the first 3 features are IP lengths and protocol type\n",
        "    features = [\n",
        "        len(network_log['Source_IP']),\n",
        "        len(network_log['Destination_IP']),\n",
        "        1 if network_log['Protocol'] == 'TCP' else 0,\n",
        "        1 if network_log['Protocol'] == 'UDP' else 0,\n",
        "        1 if network_log['Protocol'] == 'ICMP' else 0,\n",
        "         *([0] * 115)  # Placeholder for remaining 115 features, replace with actual feature extraction\n",
        "    ]\n",
        "        # ... extract the remaining 115 features from the network log ...\n",
        "\n",
        "\n",
        "    features = np.array(features).reshape(1, -1)  # Reshape to (1, 120)\n",
        "\n",
        "    # Anomaly Detection using the Autoencoder\n",
        "    reconstruction = autoencoder.predict(features)\n",
        "    # Instantiate MeanSquaredError and calculate the error\n",
        "    mse = MeanSquaredError()\n",
        "    error = mse(features, reconstruction).numpy()\n",
        "\n",
        "    # Set a threshold for anomaly detection\n",
        "    threshold = 0.5\n",
        "    if error > threshold:\n",
        "        print(f\"ALERT: Anomaly Detected! Reconstruction Error = {error:.4f}\")\n",
        "    else:\n",
        "        print(\"Normal traffic.\")"
      ],
      "metadata": {
        "colab": {
          "base_uri": "https://localhost:8080/"
        },
        "id": "CRWJrdy1Lxjk",
        "outputId": "694683f2-bd84-4cc5-ad7c-d54a9a75377c"
      },
      "execution_count": null,
      "outputs": [
        {
          "output_type": "stream",
          "name": "stderr",
          "text": [
            "WARNING:absl:Compiled the loaded model, but the compiled metrics have yet to be built. `model.compile_metrics` will be empty until you train or evaluate the model.\n"
          ]
        },
        {
          "output_type": "stream",
          "name": "stdout",
          "text": [
            "Consumed: {'Timestamp': '2024-12-17 15:07:46', 'Source_IP': '192.168.1.26', 'Destination_IP': '192.168.1.115', 'Protocol': 'TCP', 'Message': 'Simulated network log'}\n",
            "\u001b[1m1/1\u001b[0m \u001b[32m━━━━━━━━━━━━━━━━━━━━\u001b[0m\u001b[37m\u001b[0m \u001b[1m0s\u001b[0m 58ms/step\n",
            "ALERT: Anomaly Detected! Reconstruction Error = 2.4563\n",
            "Consumed: {'Timestamp': '2024-12-17 15:07:47', 'Source_IP': '192.168.1.202', 'Destination_IP': '192.168.1.38', 'Protocol': 'TCP', 'Message': 'Simulated network log'}\n",
            "\u001b[1m1/1\u001b[0m \u001b[32m━━━━━━━━━━━━━━━━━━━━\u001b[0m\u001b[37m\u001b[0m \u001b[1m0s\u001b[0m 20ms/step\n",
            "ALERT: Anomaly Detected! Reconstruction Error = 2.4402\n",
            "Consumed: {'Timestamp': '2024-12-17 15:07:48', 'Source_IP': '192.168.1.171', 'Destination_IP': '192.168.1.88', 'Protocol': 'ICMP', 'Message': 'Simulated network log'}\n",
            "\u001b[1m1/1\u001b[0m \u001b[32m━━━━━━━━━━━━━━━━━━━━\u001b[0m\u001b[37m\u001b[0m \u001b[1m0s\u001b[0m 19ms/step\n",
            "ALERT: Anomaly Detected! Reconstruction Error = 2.4367\n",
            "Consumed: {'Timestamp': '2024-12-17 15:07:49', 'Source_IP': '192.168.1.198', 'Destination_IP': '192.168.1.24', 'Protocol': 'TCP', 'Message': 'Simulated network log'}\n",
            "\u001b[1m1/1\u001b[0m \u001b[32m━━━━━━━━━━━━━━━━━━━━\u001b[0m\u001b[37m\u001b[0m \u001b[1m0s\u001b[0m 18ms/step\n",
            "ALERT: Anomaly Detected! Reconstruction Error = 2.4402\n",
            "Consumed: {'Timestamp': '2024-12-17 15:07:50', 'Source_IP': '192.168.1.5', 'Destination_IP': '192.168.1.229', 'Protocol': 'TCP', 'Message': 'Simulated network log'}\n",
            "\u001b[1m1/1\u001b[0m \u001b[32m━━━━━━━━━━━━━━━━━━━━\u001b[0m\u001b[37m\u001b[0m \u001b[1m0s\u001b[0m 18ms/step\n",
            "ALERT: Anomaly Detected! Reconstruction Error = 2.2813\n",
            "Consumed: {'Timestamp': '2024-12-17 15:07:51', 'Source_IP': '192.168.1.119', 'Destination_IP': '192.168.1.33', 'Protocol': 'TCP', 'Message': 'Simulated network log'}\n",
            "\u001b[1m1/1\u001b[0m \u001b[32m━━━━━━━━━━━━━━━━━━━━\u001b[0m\u001b[37m\u001b[0m \u001b[1m0s\u001b[0m 21ms/step\n",
            "ALERT: Anomaly Detected! Reconstruction Error = 2.4402\n",
            "Consumed: {'Timestamp': '2024-12-17 15:07:52', 'Source_IP': '192.168.1.43', 'Destination_IP': '192.168.1.239', 'Protocol': 'UDP', 'Message': 'Simulated network log'}\n",
            "\u001b[1m1/1\u001b[0m \u001b[32m━━━━━━━━━━━━━━━━━━━━\u001b[0m\u001b[37m\u001b[0m \u001b[1m0s\u001b[0m 17ms/step\n",
            "ALERT: Anomaly Detected! Reconstruction Error = 2.4566\n",
            "Consumed: {'Timestamp': '2024-12-17 15:07:53', 'Source_IP': '192.168.1.188', 'Destination_IP': '192.168.1.33', 'Protocol': 'ICMP', 'Message': 'Simulated network log'}\n",
            "\u001b[1m1/1\u001b[0m \u001b[32m━━━━━━━━━━━━━━━━━━━━\u001b[0m\u001b[37m\u001b[0m \u001b[1m0s\u001b[0m 17ms/step\n",
            "ALERT: Anomaly Detected! Reconstruction Error = 2.4367\n"
          ]
        }
      ]
    },
    {
      "cell_type": "code",
      "source": [
        "!pip install streamlit\n",
        "!pip install pyngrok\n"
      ],
      "metadata": {
        "colab": {
          "base_uri": "https://localhost:8080/"
        },
        "id": "jVVqgMyxVfRO",
        "outputId": "975e7237-215b-4628-d09c-5899e9bc86d3"
      },
      "execution_count": 81,
      "outputs": [
        {
          "output_type": "stream",
          "name": "stdout",
          "text": [
            "Requirement already satisfied: streamlit in /usr/local/lib/python3.10/dist-packages (1.41.1)\n",
            "Requirement already satisfied: altair<6,>=4.0 in /usr/local/lib/python3.10/dist-packages (from streamlit) (5.5.0)\n",
            "Requirement already satisfied: blinker<2,>=1.0.0 in /usr/local/lib/python3.10/dist-packages (from streamlit) (1.9.0)\n",
            "Requirement already satisfied: cachetools<6,>=4.0 in /usr/local/lib/python3.10/dist-packages (from streamlit) (5.5.0)\n",
            "Requirement already satisfied: click<9,>=7.0 in /usr/local/lib/python3.10/dist-packages (from streamlit) (8.1.7)\n",
            "Requirement already satisfied: numpy<3,>=1.23 in /usr/local/lib/python3.10/dist-packages (from streamlit) (1.26.4)\n",
            "Requirement already satisfied: packaging<25,>=20 in /usr/local/lib/python3.10/dist-packages (from streamlit) (24.2)\n",
            "Requirement already satisfied: pandas<3,>=1.4.0 in /usr/local/lib/python3.10/dist-packages (from streamlit) (2.2.2)\n",
            "Requirement already satisfied: pillow<12,>=7.1.0 in /usr/local/lib/python3.10/dist-packages (from streamlit) (11.0.0)\n",
            "Requirement already satisfied: protobuf<6,>=3.20 in /usr/local/lib/python3.10/dist-packages (from streamlit) (4.25.5)\n",
            "Requirement already satisfied: pyarrow>=7.0 in /usr/local/lib/python3.10/dist-packages (from streamlit) (17.0.0)\n",
            "Requirement already satisfied: requests<3,>=2.27 in /usr/local/lib/python3.10/dist-packages (from streamlit) (2.32.3)\n",
            "Requirement already satisfied: rich<14,>=10.14.0 in /usr/local/lib/python3.10/dist-packages (from streamlit) (13.9.4)\n",
            "Requirement already satisfied: tenacity<10,>=8.1.0 in /usr/local/lib/python3.10/dist-packages (from streamlit) (9.0.0)\n",
            "Requirement already satisfied: toml<2,>=0.10.1 in /usr/local/lib/python3.10/dist-packages (from streamlit) (0.10.2)\n",
            "Requirement already satisfied: typing-extensions<5,>=4.3.0 in /usr/local/lib/python3.10/dist-packages (from streamlit) (4.12.2)\n",
            "Requirement already satisfied: watchdog<7,>=2.1.5 in /usr/local/lib/python3.10/dist-packages (from streamlit) (6.0.0)\n",
            "Requirement already satisfied: gitpython!=3.1.19,<4,>=3.0.7 in /usr/local/lib/python3.10/dist-packages (from streamlit) (3.1.43)\n",
            "Requirement already satisfied: pydeck<1,>=0.8.0b4 in /usr/local/lib/python3.10/dist-packages (from streamlit) (0.9.1)\n",
            "Requirement already satisfied: tornado<7,>=6.0.3 in /usr/local/lib/python3.10/dist-packages (from streamlit) (6.3.3)\n",
            "Requirement already satisfied: jinja2 in /usr/local/lib/python3.10/dist-packages (from altair<6,>=4.0->streamlit) (3.1.4)\n",
            "Requirement already satisfied: jsonschema>=3.0 in /usr/local/lib/python3.10/dist-packages (from altair<6,>=4.0->streamlit) (4.23.0)\n",
            "Requirement already satisfied: narwhals>=1.14.2 in /usr/local/lib/python3.10/dist-packages (from altair<6,>=4.0->streamlit) (1.17.0)\n",
            "Requirement already satisfied: gitdb<5,>=4.0.1 in /usr/local/lib/python3.10/dist-packages (from gitpython!=3.1.19,<4,>=3.0.7->streamlit) (4.0.11)\n",
            "Requirement already satisfied: python-dateutil>=2.8.2 in /usr/local/lib/python3.10/dist-packages (from pandas<3,>=1.4.0->streamlit) (2.8.2)\n",
            "Requirement already satisfied: pytz>=2020.1 in /usr/local/lib/python3.10/dist-packages (from pandas<3,>=1.4.0->streamlit) (2024.2)\n",
            "Requirement already satisfied: tzdata>=2022.7 in /usr/local/lib/python3.10/dist-packages (from pandas<3,>=1.4.0->streamlit) (2024.2)\n",
            "Requirement already satisfied: charset-normalizer<4,>=2 in /usr/local/lib/python3.10/dist-packages (from requests<3,>=2.27->streamlit) (3.4.0)\n",
            "Requirement already satisfied: idna<4,>=2.5 in /usr/local/lib/python3.10/dist-packages (from requests<3,>=2.27->streamlit) (3.10)\n",
            "Requirement already satisfied: urllib3<3,>=1.21.1 in /usr/local/lib/python3.10/dist-packages (from requests<3,>=2.27->streamlit) (2.2.3)\n",
            "Requirement already satisfied: certifi>=2017.4.17 in /usr/local/lib/python3.10/dist-packages (from requests<3,>=2.27->streamlit) (2024.8.30)\n",
            "Requirement already satisfied: markdown-it-py>=2.2.0 in /usr/local/lib/python3.10/dist-packages (from rich<14,>=10.14.0->streamlit) (3.0.0)\n",
            "Requirement already satisfied: pygments<3.0.0,>=2.13.0 in /usr/local/lib/python3.10/dist-packages (from rich<14,>=10.14.0->streamlit) (2.18.0)\n",
            "Requirement already satisfied: smmap<6,>=3.0.1 in /usr/local/lib/python3.10/dist-packages (from gitdb<5,>=4.0.1->gitpython!=3.1.19,<4,>=3.0.7->streamlit) (5.0.1)\n",
            "Requirement already satisfied: MarkupSafe>=2.0 in /usr/local/lib/python3.10/dist-packages (from jinja2->altair<6,>=4.0->streamlit) (3.0.2)\n",
            "Requirement already satisfied: attrs>=22.2.0 in /usr/local/lib/python3.10/dist-packages (from jsonschema>=3.0->altair<6,>=4.0->streamlit) (24.2.0)\n",
            "Requirement already satisfied: jsonschema-specifications>=2023.03.6 in /usr/local/lib/python3.10/dist-packages (from jsonschema>=3.0->altair<6,>=4.0->streamlit) (2024.10.1)\n",
            "Requirement already satisfied: referencing>=0.28.4 in /usr/local/lib/python3.10/dist-packages (from jsonschema>=3.0->altair<6,>=4.0->streamlit) (0.35.1)\n",
            "Requirement already satisfied: rpds-py>=0.7.1 in /usr/local/lib/python3.10/dist-packages (from jsonschema>=3.0->altair<6,>=4.0->streamlit) (0.22.3)\n",
            "Requirement already satisfied: mdurl~=0.1 in /usr/local/lib/python3.10/dist-packages (from markdown-it-py>=2.2.0->rich<14,>=10.14.0->streamlit) (0.1.2)\n",
            "Requirement already satisfied: six>=1.5 in /usr/local/lib/python3.10/dist-packages (from python-dateutil>=2.8.2->pandas<3,>=1.4.0->streamlit) (1.17.0)\n",
            "Requirement already satisfied: pyngrok in /usr/local/lib/python3.10/dist-packages (7.2.2)\n",
            "Requirement already satisfied: PyYAML>=5.1 in /usr/local/lib/python3.10/dist-packages (from pyngrok) (6.0.2)\n"
          ]
        }
      ]
    },
    {
      "cell_type": "code",
      "source": [
        "# Save the code to a Python file\n",
        "code = \"\"\"\n",
        "import streamlit as st\n",
        "import pandas as pd\n",
        "\n",
        "# Streamlit dashboard for anomaly detection\n",
        "st.title(\"Intrusion Detection System Dashboard\")\n",
        "\n",
        "# Simulated anomaly log\n",
        "data = {\n",
        "    \"Time\": [\"2024-06-17 12:00:00\", \"2024-06-17 12:05:00\"],\n",
        "    \"Reconstruction Error\": [0.15, 0.23],\n",
        "    \"Anomaly Detected\": [True, True]\n",
        "}\n",
        "df = pd.DataFrame(data)\n",
        "\n",
        "st.subheader(\"Anomaly Logs\")\n",
        "st.table(df)\n",
        "\n",
        "st.subheader(\"Reconstruction Error Plot\")\n",
        "st.line_chart([0.02, 0.05, 0.1, 0.3, 0.15])  # Simulated errors over time\n",
        "\"\"\"\n",
        "\n",
        "with open(\"streamlit_app.py\", \"w\") as f:\n",
        "    f.write(code)\n",
        "print(\"Streamlit app saved as 'streamlit_app.py'\")\n"
      ],
      "metadata": {
        "id": "ubKZm_2UVmRo",
        "outputId": "f229056a-9cc5-4a75-f350-c2935ae6bc35",
        "colab": {
          "base_uri": "https://localhost:8080/"
        }
      },
      "execution_count": 82,
      "outputs": [
        {
          "output_type": "stream",
          "name": "stdout",
          "text": [
            "Streamlit app saved as 'streamlit_app.py'\n"
          ]
        }
      ]
    },
    {
      "cell_type": "code",
      "source": [
        "from pyngrok import ngrok\n",
        "\n",
        "# Run the Streamlit app\n",
        "!streamlit run streamlit_app.py &\n",
        "\n",
        "# Expose Streamlit app using ngrok\n",
        "public_url = ngrok.connect(port='8501')  # Default Streamlit port is 8501\n",
        "print(f\"Streamlit is running on: {public_url}\")\n"
      ],
      "metadata": {
        "id": "eberV-qZVvrL",
        "outputId": "a4ccf414-d012-461c-d1ec-1dc504c3d86c",
        "colab": {
          "base_uri": "https://localhost:8080/"
        }
      },
      "execution_count": null,
      "outputs": [
        {
          "output_type": "stream",
          "name": "stdout",
          "text": [
            "\n",
            "Collecting usage statistics. To deactivate, set browser.gatherUsageStats to false.\n",
            "\u001b[0m\n",
            "\u001b[0m\n",
            "\u001b[34m\u001b[1m  You can now view your Streamlit app in your browser.\u001b[0m\n",
            "\u001b[0m\n",
            "\u001b[34m  Local URL: \u001b[0m\u001b[1mhttp://localhost:8501\u001b[0m\n",
            "\u001b[34m  Network URL: \u001b[0m\u001b[1mhttp://172.28.0.12:8501\u001b[0m\n",
            "\u001b[34m  External URL: \u001b[0m\u001b[1mhttp://34.150.230.225:8501\u001b[0m\n",
            "\u001b[0m\n"
          ]
        }
      ]
    }
  ],
  "metadata": {
    "colab": {
      "provenance": []
    },
    "kernelspec": {
      "display_name": "Python 3",
      "name": "python3"
    },
    "language_info": {
      "name": "python"
    }
  },
  "nbformat": 4,
  "nbformat_minor": 0
}